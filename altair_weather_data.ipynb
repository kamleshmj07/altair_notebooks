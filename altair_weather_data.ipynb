{
  "nbformat": 4,
  "nbformat_minor": 0,
  "metadata": {
    "colab": {
      "provenance": [],
      "authorship_tag": "ABX9TyPHTugNDsvC6VfJ3xQHdbL3",
      "include_colab_link": true
    },
    "kernelspec": {
      "name": "python3",
      "display_name": "Python 3"
    },
    "language_info": {
      "name": "python"
    }
  },
  "cells": [
    {
      "cell_type": "markdown",
      "metadata": {
        "id": "view-in-github",
        "colab_type": "text"
      },
      "source": [
        "<a href=\"https://colab.research.google.com/github/kamleshmj07/altair_notebooks/blob/master/altair_weather_data.ipynb\" target=\"_parent\"><img src=\"https://colab.research.google.com/assets/colab-badge.svg\" alt=\"Open In Colab\"/></a>"
      ]
    },
    {
      "cell_type": "code",
      "execution_count": 3,
      "metadata": {
        "colab": {
          "base_uri": "https://localhost:8080/",
          "height": 106
        },
        "id": "r0MriEs3DK7z",
        "outputId": "201a59a6-df4c-4da7-c0fe-72f866973625"
      },
      "outputs": [
        {
          "output_type": "error",
          "ename": "SyntaxError",
          "evalue": "'await' outside async function (<ipython-input-3-bd01d0b4b4fd>, line 59)",
          "traceback": [
            "\u001b[0;36m  File \u001b[0;32m\"<ipython-input-3-bd01d0b4b4fd>\"\u001b[0;36m, line \u001b[0;32m59\u001b[0m\n\u001b[0;31m    raw_data = await fetch_all_weather(CITIES)\u001b[0m\n\u001b[0m               ^\u001b[0m\n\u001b[0;31mSyntaxError\u001b[0m\u001b[0;31m:\u001b[0m 'await' outside async function\n"
          ]
        }
      ],
      "source": [
        "\n",
        "import pandas as pd\n",
        "from datetime import datetime\n",
        "import altair as alt\n",
        "import unittest\n",
        "\n",
        "# Constants\n",
        "API_KEY = 'your_openweathermap_api_key'\n",
        "CITIES = ['London', 'New York', 'Tokyo', 'Sydney', 'Mumbai']\n",
        "BASE_URL = 'http://api.openweathermap.org/data/2.5/weather'\n",
        "\n",
        "def fetch_weather(session, city):\n",
        "    params = {'q': city, 'appid': API_KEY, 'units': 'metric'}\n",
        "    with session.get(BASE_URL, params=params) as response:\n",
        "        return response.json()\n",
        "\n",
        "def fetch_all_weather(cities):\n",
        "    with aiohttp.ClientSession() as session:\n",
        "        tasks = [fetch_weather(session, city) for city in cities]\n",
        "        return asyncio.gather(*tasks)\n",
        "\n",
        "def process_weather_data(data):\n",
        "    processed_data = []\n",
        "    for entry in data:\n",
        "        city = entry['name']\n",
        "        temp = entry['main']['temp']\n",
        "        humidity = entry['main']['humidity']\n",
        "        weather = entry['weather'][0]['description']\n",
        "        timestamp = datetime.fromtimestamp(entry['dt']).strftime('%Y-%m-%d %H:%M:%S')\n",
        "        processed_data.append([city, temp, humidity, weather, timestamp])\n",
        "    return processed_data\n",
        "\n",
        "def create_dataframe(processed_data):\n",
        "    df = pd.DataFrame(processed_data, columns=['City', 'Temperature (C)', 'Humidity (%)', 'Weather', 'Timestamp'])\n",
        "    return df\n",
        "\n",
        "def create_chart(df):\n",
        "    base = alt.Chart(df).encode(\n",
        "        x='City'\n",
        "    )\n",
        "\n",
        "    bar_temp = base.mark_bar(color='blue').encode(\n",
        "        y='Temperature (C)'\n",
        "    )\n",
        "\n",
        "    line_humidity = base.mark_line(color='green').encode(\n",
        "        y='Humidity (%)',\n",
        "        detail='City'\n",
        "    )\n",
        "\n",
        "    chart = alt.layer(bar_temp, line_humidity).resolve_scale(\n",
        "        y='independent'\n",
        "    ).properties(\n",
        "        title='Temperature and Humidity of Cities'\n",
        "    )\n",
        "\n",
        "    return chart\n",
        "\n",
        "def main():\n",
        "    raw_data = fetch_all_weather(CITIES)\n",
        "    processed_data = process_weather_data(raw_data)\n",
        "    df = create_dataframe(processed_data)\n",
        "    print(df)\n",
        "    chart = create_chart(df)\n",
        "    chart.show()\n",
        "\n",
        "# Run the main function\n",
        "main()\n"
      ]
    }
  ]
}